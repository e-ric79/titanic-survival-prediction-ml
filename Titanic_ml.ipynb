{
  "nbformat": 4,
  "nbformat_minor": 0,
  "metadata": {
    "colab": {
      "provenance": []
    },
    "kernelspec": {
      "name": "python3",
      "display_name": "Python 3"
    },
    "language_info": {
      "name": "python"
    }
  },
  "cells": [
    {
      "cell_type": "code",
      "execution_count": null,
      "metadata": {
        "id": "5teVvunUZtAZ"
      },
      "outputs": [],
      "source": [
        "from google.colab import files\n",
        "uploads=files.upload()"
      ]
    },
    {
      "cell_type": "code",
      "source": [
        "import pandas as pd\n",
        "import numpy as np\n",
        "df=pd.read_csv('Titanic-Dataset.csv')"
      ],
      "metadata": {
        "id": "nZfgyYkv22xA"
      },
      "execution_count": 102,
      "outputs": []
    },
    {
      "cell_type": "markdown",
      "source": [
        "# Titanic Survival Prediction - Machine Learning Model\n",
        "Building a classification model to predict passenger survival using Logistic Regression\n",
        "\n",
        "## Data Preparation"
      ],
      "metadata": {
        "id": "PszRwsBfrD2L"
      }
    },
    {
      "cell_type": "code",
      "source": [
        "df=df[['Survived', 'Pclass', 'Sex', 'Age', 'SibSp', 'Parch', 'Fare']]\n",
        "df['Age']=df['Age'].fillna(df['Age'].median())\n",
        "df['Fare']=df['Fare'].fillna(df['Fare'].median())\n",
        "df['Sex']=df['Sex'].map({'male':1,'female':0})\n",
        "print(df.isna().sum())\n",
        "df.head()"
      ],
      "metadata": {
        "id": "V08goBCRXtJd"
      },
      "execution_count": null,
      "outputs": []
    },
    {
      "cell_type": "code",
      "source": [
        "from sklearn.model_selection import train_test_split\n",
        "X=df[['Pclass', 'Sex', 'Age', 'SibSp', 'Parch', 'Fare']]\n",
        "y=df['Survived']\n",
        "X_train,X_test,y_train,y_test=train_test_split(X,y,test_size=0.2,random_state=42)\n",
        "print(f\"Training data: {X_train.shape[0]} rows\")\n",
        "print(f\"Testing data: {X_test.shape[0]} rows\")\n",
        "print(f\"\\nFeatures shape{X_train.shape}\")\n",
        "print(f\"Target shape {y_train.shape}\")"
      ],
      "metadata": {
        "id": "xeOFFidCbn7h"
      },
      "execution_count": null,
      "outputs": []
    },
    {
      "cell_type": "markdown",
      "source": [
        "## Train/Test Split\n",
        "Splitting data: 80% training, 20% testing"
      ],
      "metadata": {
        "id": "yYHK3Y6vq_qR"
      }
    },
    {
      "cell_type": "code",
      "source": [
        "from sklearn.linear_model import LogisticRegression\n",
        "#create the model\n",
        "model=LogisticRegression(random_state=42,max_iter=500)\n",
        "#train the model\n",
        "model.fit(X_train,y_train)\n",
        "print(\"Model trained!\")"
      ],
      "metadata": {
        "id": "UddfgU1Bd1sn"
      },
      "execution_count": null,
      "outputs": []
    },
    {
      "cell_type": "markdown",
      "source": [
        "## Model Training\n",
        "Training Logistic Regression model on training data"
      ],
      "metadata": {
        "id": "knHkUJ_Hq6Z-"
      }
    },
    {
      "cell_type": "code",
      "source": [
        "from sklearn.metrics import accuracy_score, confusion_matrix, classification_report\n",
        "# make predictions on test data\n",
        "y_pred=model.predict(X_test)\n",
        "# how accurate is the model\n",
        "accuracy=accuracy_score(y_test,y_pred)\n",
        "print(f\"model accuracy: {accuracy}\")\n",
        "print(f\"That means {accuracy*100:.1f}% of predictions were correct!\\n\")\n",
        "# more detailed results\n",
        "print(\"Classification report\")\n",
        "print(classification_report(y_test,y_pred,target_names=['Did not survive','Survived']))\n",
        "# confusion matrix(shows where model gets confused)\n",
        "print(\"\\nConfusion Matrix\")\n",
        "cm=confusion_matrix(y_test,y_pred)\n",
        "print(cm)\n",
        "print(\"\\nInterpretation:\")\n",
        "print(f\"True negatives(correctly predicted died): {cm[0,0]}\")\n",
        "print(f\"True positives(correctly predicted survived): {cm[1,1]}\")\n",
        "print(f\"False negatives(predicted died,actually survived): {cm[1,0]}\")\n",
        "print(f\"False positives(predicted survived,actually died): {cm[0,1]}\")"
      ],
      "metadata": {
        "id": "lPBo_zuhfqyO"
      },
      "execution_count": null,
      "outputs": []
    },
    {
      "cell_type": "markdown",
      "source": [
        "## Model Evaluation\n",
        "Testing model accuracy on unseen data"
      ],
      "metadata": {
        "id": "1xT7LQHdq1Zc"
      }
    },
    {
      "cell_type": "code",
      "source": [
        "feature_names=['Pclass', 'Sex', 'Age', 'SibSp', 'Parch', 'Fare']\n",
        "coefficients=model.coef_[0]\n",
        "importance_df=pd.DataFrame({\n",
        "    'Feature':feature_names,\n",
        "    'Coefficient':coefficients\n",
        "}).sort_values('Coefficient',ascending=False)\n",
        "print(\"Feature Importance For Survival Prediction:\")\n",
        "print(importance_df)\n",
        "print(\"\\nInterpretation:\")\n",
        "for idx, row in importance_df.iterrows():\n",
        "    if row['Coefficient'] > 0:\n",
        "        print(f\"{row['Feature']}: INCREASES survival chance\")\n",
        "    else:\n",
        "        print(f\"{row['Feature']}: DECREASES survival chance\")"
      ],
      "metadata": {
        "id": "sDWsmdJ_kVQt"
      },
      "execution_count": null,
      "outputs": []
    },
    {
      "cell_type": "markdown",
      "source": [
        "## Feature Importance\n",
        "Understanding which features drive survival predictions\n",
        "- Fare: Increases survival (richer = better cabins)\n",
        "- Age: Younger passengers more likely to survive\n",
        "- Sex: Females much more likely to survive (-2 coefficient)\n",
        "- Pclass: Lower class number (1st class) more likely to survive"
      ],
      "metadata": {
        "id": "vhOO_cfcqf9-"
      }
    },
    {
      "cell_type": "markdown",
      "source": [
        "## Making Predictions\n",
        "Using the trained model to predict survival for new passengers"
      ],
      "metadata": {
        "id": "Vuj515FNqrZ1"
      }
    },
    {
      "cell_type": "code",
      "source": [
        "# predict for a new passenger\n",
        "# example 1: young female ,first class ,high fare\n",
        "passenger1=[[1,0,25,0,0,500]]\n",
        "prediction1=model.predict(passenger1)[0]\n",
        "probability1=model.predict_proba(passenger1)[0]\n",
        "print(\"passenger 1: young female, first class, expensive ticket\")\n",
        "print(f\"prediction: {'survived' if prediction1==1 else 'died'}\")\n",
        "print(f\"probability: {probability1[1]:.1%} chances of survival\")\n",
        "# example 2: old male, 3rd class, cheap fare\n",
        "passenger2=[[3,1,60,0,0,50]]\n",
        "prediction2=model.predict(passenger2)[0]\n",
        "probability2=model.predict_proba(passenger2)[0]\n",
        "print(\"\\nPassenger 2: old  male, 3rd class, cheap fare\")\n",
        "print(f\"prediction: {'survived' if prediction2==1 else 'died'}\")\n",
        "print(f\"probability2: {probability2[1]:.1%} chances of survival\")"
      ],
      "metadata": {
        "id": "t-sBDnPTm2Bd"
      },
      "execution_count": null,
      "outputs": []
    },
    {
      "cell_type": "markdown",
      "source": [
        "## Prediction Examples\n",
        "\n",
        "### Example 1: Young Female, 1st Class\n",
        "- Pclass: 1 (1st class)\n",
        "- Sex: Female\n",
        "- Age: 25\n",
        "- Fare: $500 (expensive)\n",
        "- **Model Prediction: 98.6% survival chance**\n",
        "\n",
        "### Example 2: Old Male, 3rd Class  \n",
        "- Pclass: 3 (3rd class)\n",
        "- Sex: Male\n",
        "- Age: 60\n",
        "- Fare: $50 (cheap)\n",
        "- **Model Prediction: 5.3% survival chance**\n",
        "\n",
        "The model correctly identifies passenger characteristics that affect survival."
      ],
      "metadata": {
        "id": "p_Tj2vP1qR8A"
      }
    }
  ]
}